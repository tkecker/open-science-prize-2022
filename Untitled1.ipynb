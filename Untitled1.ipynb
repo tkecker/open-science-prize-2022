{
 "cells": [
  {
   "cell_type": "code",
   "execution_count": 20,
   "id": "c0253d78",
   "metadata": {},
   "outputs": [
    {
     "name": "stdout",
     "output_type": "stream",
     "text": [
      "0: ──QubitStateVector(M0)─╭●─╭●──H─╭●─╭●─╭●─╭●─╭X──H────╭●─╭●─╭X─┤  <Z>\n",
      "1: ───────────────────────│──│─────╰X─│──╰X─│──├●───────│──│──│──┤     \n",
      "2: ───────────────────────│──│────────╰X────╰X─╰●───────│──│──│──┤     \n",
      "3: ───────────────────────╰X─│───H─╭●─╭●────╭●─╭●─╭X──H─╰X─│──├●─┤     \n",
      "4: ──────────────────────────│─────╰X─│───Z─╰X─│──├●───────│──│──┤     \n",
      "5: ──────────────────────────│────────╰X───────╰X─╰●───────│──│──┤     \n",
      "6: ──────────────────────────╰X──H─╭●─╭●─╭●─╭●─╭X──H───────╰X─╰●─┤     \n",
      "7: ────────────────────────────────╰X─│──╰X─│──├●────────────────┤     \n",
      "8: ───────────────────────────────────╰X────╰X─╰●────────────────┤     \n"
     ]
    }
   ],
   "source": [
    "import pennylane as qml\n",
    "from pennylane import numpy as np\n",
    "\n",
    "n_qubits = 9\n",
    "dev = qml.device(\"default.qubit\", wires=n_qubits)\n",
    "error_dict = {0: 'PauliX', 1: 'PauliY', 2: 'PauliZ'}\n",
    "\n",
    "def error(error_key, qubit):\n",
    "    \"\"\"Defines the error that is induced in the circuit.\n",
    "\n",
    "    Args:\n",
    "        error_key (int): An integer associated to the type of error (Pauli X, Y, or Z)\n",
    "        qubit (int): The qubit that the error occurs on.\n",
    "    \"\"\"\n",
    "    getattr(qml, error_dict[error_key])(qubit)\n",
    "    \n",
    "\n",
    "@qml.qnode(dev)\n",
    "def shor(state, error_key, qubit):\n",
    "    \"\"\"A circuit defining Shor's code for error correction.\n",
    "\n",
    "    Args:\n",
    "        state (list(float)): The quantum state of the first qubit in the circuit.\n",
    "        error_key (int): An integer associated to the type of error (Pauli X, Y, or Z)\n",
    "        qubit (int): The qubit that the error occurs on.\n",
    "\n",
    "    Returns:\n",
    "        (list(float)): The expectation value of the Pauli Z operator on every qubit.\n",
    "    \"\"\"\n",
    "    qml.QubitStateVector(np.array(state), wires=0)\n",
    "\n",
    "    qml.CNOT(wires=[0,3])\n",
    "    qml.CNOT(wires=[0,6])\n",
    "    qml.Hadamard(0)\n",
    "    qml.Hadamard(3)\n",
    "    qml.Hadamard(6)\n",
    "    for i in range(3):\n",
    "        qml.CNOT(wires=[3*i,1+3*i])\n",
    "        qml.CNOT(wires=[3*i,2+3*i])\n",
    "    error(error_key,qubit)\n",
    "    for i in range(3):\n",
    "        qml.CNOT(wires=[3*i,1+3*i])\n",
    "        qml.CNOT(wires=[3*i,2+3*i])\n",
    "    for i in range(3):\n",
    "        qml.Toffoli(wires=[2+3*i,1+3*i,3*i])\n",
    "        qml.Hadamard(3*i)\n",
    "    qml.CNOT(wires=[0,3])\n",
    "    qml.CNOT(wires=[0,6])\n",
    "    qml.Toffoli(wires=[6,3,0])\n",
    "\n",
    "    return qml.expval(qml.PauliZ(0))\n",
    "\n",
    "print(qml.draw(shor)([0,1],2,4))"
   ]
  },
  {
   "cell_type": "code",
   "execution_count": null,
   "id": "1712ca2c",
   "metadata": {},
   "outputs": [],
   "source": []
  }
 ],
 "metadata": {
  "kernelspec": {
   "display_name": "Python 3 (ipykernel)",
   "language": "python",
   "name": "python3"
  },
  "language_info": {
   "codemirror_mode": {
    "name": "ipython",
    "version": 3
   },
   "file_extension": ".py",
   "mimetype": "text/x-python",
   "name": "python",
   "nbconvert_exporter": "python",
   "pygments_lexer": "ipython3",
   "version": "3.9.7"
  }
 },
 "nbformat": 4,
 "nbformat_minor": 5
}
