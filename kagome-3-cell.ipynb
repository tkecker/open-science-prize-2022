{
 "cells": [
  {
   "cell_type": "code",
   "execution_count": 1,
   "id": "f7719a6c",
   "metadata": {},
   "outputs": [
    {
     "data": {
      "image/png": "[encoded data removed]",
      "text/plain": [
       "<Figure size 432x288 with 1 Axes>"
      ]
     },
     "metadata": {},
     "output_type": "display_data"
    }
   ],
   "source": [
    "# Kagome lattice consisting of 3 cells, using 24 qubits\n",
    "import rustworkx as rx\n",
    "import numpy as np\n",
    "import matplotlib.pyplot as plt\n",
    "from time import time\n",
    "from qiskit_nature.problems.second_quantization.lattice import Lattice\n",
    "\n",
    "num_qubits = 24\n",
    "# edge weight\n",
    "t = 1.0\n",
    "\n",
    "graph_24 = rx.PyGraph(multigraph=False)\n",
    "graph_24.add_nodes_from(range(num_qubits))\n",
    "\n",
    "edge_list = [\n",
    "    (0,1,t),\n",
    "    (0,23,t),\n",
    "    (1,2,t),\n",
    "    (1,3,t),\n",
    "    (1,23,t),\n",
    "    (2,3,t),\n",
    "    (3,4,t),\n",
    "    (3,5,t),\n",
    "    (4,5,t),\n",
    "    (4,12,t),\n",
    "    (4,20,t),\n",
    "    (5,6,t),\n",
    "    (5,7,t),\n",
    "    (6,7,t),\n",
    "    (7,8,t),\n",
    "    (7,9,t),\n",
    "    (8,9,t),\n",
    "    (9,10,t),\n",
    "    (9,11,t),\n",
    "    (10,11,t),\n",
    "    (11,12,t),\n",
    "    (11,13,t),\n",
    "    (12,13,t),\n",
    "    (12,20,t),\n",
    "    (13,14,t),\n",
    "    (13,15,t),\n",
    "    (14,15,t),\n",
    "    (15,16,t),\n",
    "    (15,17,t),\n",
    "    (16,17,t),\n",
    "    (17,18,t),\n",
    "    (17,19,t),\n",
    "    (18,19,t),\n",
    "    (19,20,t),\n",
    "    (19,21,t),\n",
    "    (20,21,t),\n",
    "    (21,22,t),\n",
    "    (21,23,t),\n",
    "    (22,23,t)   \n",
    "]\n",
    "\n",
    "graph_24.add_edges_from(edge_list)\n",
    "kagome_3_cell = Lattice(graph_24)\n",
    "r = np.sqrt(3)\n",
    "node_pos = {0:[0,3*r],1:[1,2*r],2:[3,2*r],3:[2,r],4:[1,0],5:[3,0],6:[5,0],7:[4,-r],8:[5,-2*r],\n",
    "           9:[3,-2*r],10:[2,-3*r],11:[1,-2*r],12:[0,-r],13:[-1,-2*r],14:[-2,-3*r],15:[-3,-2*r],\n",
    "           16:[-5,-2*r],17:[-4,-r],18:[-5,0],19:[-3,0],20:[-1,0],21:[-2,r],22:[-3,2*r],23:[-1,2*r]}\n",
    "kagome_3_cell.draw(style={'with_labels':True, 'font_color':'white', 'node_color':'purple', 'pos':node_pos})\n",
    "plt.show()"
   ]
  },
  {
   "cell_type": "code",
   "execution_count": 2,
   "id": "8b09ffcc",
   "metadata": {},
   "outputs": [],
   "source": [
    "from qiskit_nature.mappers.second_quantization import LogarithmicMapper\n",
    "from heisenberg_model import HeisenbergModel\n",
    "\n",
    "# Build Hamiltonian from graph edges\n",
    "heis_24 = HeisenbergModel.uniform_parameters(\n",
    "    lattice=kagome_3_cell,\n",
    "    uniform_interaction=t,\n",
    "    uniform_onsite_potential=0.0,  # No singe site external field\n",
    ")\n",
    "\n",
    "# Map from SpinOp to qubits just as before.\n",
    "log_mapper = LogarithmicMapper()\n",
    "ham_24 = 4 * log_mapper.map(heis_24.second_q_ops().simplify())\n",
    "# Print Hamiltonian to check it's what we expect:\n",
    "# 18 ZZ, 18 YY, and 18 XX terms over 16 qubits instead of over 12 qubits\n",
    "# ham_24"
   ]
  },
  {
   "cell_type": "code",
   "execution_count": 3,
   "id": "703b1cd7",
   "metadata": {},
   "outputs": [],
   "source": [
    "from qiskit import QuantumCircuit, transpile\n",
    "from qiskit.circuit import Parameter, ParameterVector\n",
    "\n",
    "def W_entangler(circuit,q_array,param_name):\n",
    "    # takes a quantum circuit and creates a parametrised W state \n",
    "    # between the qubits specified in q_array, with parameters specified in a vector param_name\n",
    "    circuit.x(q_array[0])  # apply NOT to the first qubit in q_array\n",
    "    k = len(q_array) - 1   # need a number of parameters one less than the number of qubits\n",
    "    theta = []\n",
    "    for i in range(k):\n",
    "        theta.append(Parameter(param_name+'_'+str(i)))\n",
    "    \n",
    "    for j in range(k):  # this applies a rotation to qubit at index j+1 in the array \n",
    "        circuit.ry(theta[j],q_array[j+1])\n",
    "        circuit.cz(q_array[j],q_array[j+1])\n",
    "        circuit.ry(-theta[j],q_array[j+1])\n",
    "    for j in range(k):  # entangle all the qubits with CNOT gates\n",
    "        circuit.cx(q_array[j+1],q_array[j])\n",
    "    return circuit"
   ]
  },
  {
   "cell_type": "code",
   "execution_count": 4,
   "id": "5e27807b",
   "metadata": {},
   "outputs": [
    {
     "name": "stdout",
     "output_type": "stream",
     "text": [
      "number and type of gates in the cirucit: OrderedDict([('ry', 46), ('cz', 23), ('cx', 23), ('x', 12)])\n",
      "number of parameters in the circuit: 23\n"
     ]
    }
   ],
   "source": [
    "kagome24 = QuantumCircuit(24)\n",
    "\n",
    "for i in range(11):\n",
    "    W_entangler(kagome24,[2*i+1,2*i+2,2*i+3],'t'+str(i))\n",
    "    \n",
    "W_entangler(kagome24,[23,0],'t11') # entangle the last (23rd) and first (0th) qubit\n",
    "\n",
    "print('number and type of gates in the cirucit:', kagome24.count_ops())\n",
    "print('number of parameters in the circuit:', kagome24.num_parameters)\n",
    "# kagome24.draw(\"mpl\")"
   ]
  },
  {
   "cell_type": "code",
   "execution_count": 5,
   "id": "84383006",
   "metadata": {},
   "outputs": [],
   "source": [
    "from qiskit.algorithms.optimizers import SPSA\n",
    "\n",
    "optimizer = SPSA(maxiter=250)"
   ]
  },
  {
   "cell_type": "code",
   "execution_count": 6,
   "id": "f0457a87",
   "metadata": {},
   "outputs": [],
   "source": [
    "from qiskit.algorithms import MinimumEigensolver, VQEResult\n",
    "\n",
    "# Define a custome VQE class to orchestra the ansatz, classical optimizers, \n",
    "# initial point, callback, and final result\n",
    "class CustomVQE(MinimumEigensolver):\n",
    "    \n",
    "    def __init__(self, estimator, circuit, optimizer, callback=None):\n",
    "        self._estimator = estimator\n",
    "        self._circuit = circuit\n",
    "        self._optimizer = optimizer\n",
    "        self._callback = callback\n",
    "        \n",
    "    def compute_minimum_eigenvalue(self, operators, aux_operators=None):\n",
    "                \n",
    "        # Define objective function to classically minimize over\n",
    "        def objective(x):\n",
    "            # Execute job with estimator primitive\n",
    "            job = self._estimator.run([self._circuit], [operators], [x])\n",
    "            # Get results from jobs\n",
    "            est_result = job.result()\n",
    "            # Get the measured energy value\n",
    "            value = est_result.values[0]\n",
    "            # Save result information using callback function\n",
    "            if self._callback is not None:\n",
    "                self._callback(value)\n",
    "            return value\n",
    "            \n",
    "        # Select an initial point for the ansatzs' parameters\n",
    "        x0 = np.pi/2 * (np.random.rand(self._circuit.num_parameters))\n",
    "        # x0 = np.pi/4 * np.array([1,0,1,1,0,1,0,1,0,1,0])\n",
    "        \n",
    "        # Run optimization\n",
    "        res = self._optimizer.minimize(objective, x0=x0)\n",
    "        \n",
    "        # Populate VQE result\n",
    "        result = VQEResult()\n",
    "        result.cost_function_evals = res.nfev\n",
    "        result.eigenvalue = res.fun\n",
    "        result.optimal_parameters = res.x\n",
    "        return result"
   ]
  },
  {
   "cell_type": "code",
   "execution_count": 7,
   "id": "253c76b8",
   "metadata": {},
   "outputs": [],
   "source": [
    "# Define a simple callback function\n",
    "intermediate_info = []\n",
    "def callback(value):\n",
    "        intermediate_info.append(value)"
   ]
  },
  {
   "cell_type": "code",
   "execution_count": null,
   "id": "d8a22b3d",
   "metadata": {},
   "outputs": [],
   "source": [
    "from qiskit_ibm_runtime import (QiskitRuntimeService, Session,\n",
    "                                Estimator as RuntimeEstimator)\n",
    "\n",
    "# Save an IBM Quantum account. See docs for credential security warning\n",
    "# https://github.com/Qiskit/qiskit-ibm-runtime/tree/stable/0.7#saving-account-on-disk\n",
    "QiskitRuntimeService.save_account(channel=\"ibm_quantum\", token=\"a25c2de7fba634b2157af2ffb30cdcc9308e14a848e7ab959998e09039d19b4bb8310654409a6be536191b7181d01036b0df144e791d1b9c700281d2d9e8f098\",overwrite=True)\n",
    "service = QiskitRuntimeService(channel='ibm_quantum')\n",
    "\n",
    "backend = 'simulator_statevector'\n",
    "\n",
    "start = time()\n",
    "with Session(service=service, backend=backend) as session:\n",
    "    # Prepare primitive\n",
    "    rt_estimator = RuntimeEstimator(session=session)\n",
    "    # Set up algorithm\n",
    "    custom_vqe = CustomVQE(rt_estimator, kagome24, optimizer, callback=callback)\n",
    "    # Run algorithm\n",
    "    result = custom_vqe.compute_minimum_eigenvalue(ham_24)\n",
    "end = time()\n",
    "print(f'execution time (s): {end - start:.2f}')\n",
    "print(result)"
   ]
  },
  {
   "cell_type": "code",
   "execution_count": 9,
   "id": "5dba9562",
   "metadata": {},
   "outputs": [
    {
     "data": {
      "image/png": "[encoded data removed]",
      "text/plain": [
       "<Figure size 432x288 with 1 Axes>"
      ]
     },
     "metadata": {
      "needs_background": "light"
     },
     "output_type": "display_data"
    }
   ],
   "source": [
    "plt.plot(intermediate_info, color='purple', lw=2, label='Simulated VQE')\n",
    "plt.ylabel('Energy')\n",
    "plt.xlabel('Iterations')\n",
    "# Exact ground state energy value\n",
    "gs_energy = -39.0\n",
    "plt.axhline(y=gs_energy, color=\"tab:red\", ls=\"--\", lw=2, label=\"Target: \" + str(gs_energy))\n",
    "plt.legend()\n",
    "plt.grid()\n",
    "plt.show()"
   ]
  },
  {
   "cell_type": "code",
   "execution_count": null,
   "id": "364cd17a",
   "metadata": {},
   "outputs": [],
   "source": [
    "execution time (s): 26374.29\n",
    "{   'aux_operator_eigenvalues': None,\n",
    "    'cost_function_evals': 300,\n",
    "    'eigenstate': None,\n",
    "    'eigenvalue': -34.299,\n",
    "    'optimal_circuit': None,\n",
    "    'optimal_parameters': array([ 7.30609385e-01,  4.96782302e-03, -2.36048574e+00,  2.76059088e-02,\n",
    "        8.38339365e-01,  9.36019419e-01, -7.38877547e-03, -8.18702430e-01,\n",
    "        3.17053886e+00,  8.22615701e-01,  1.40784112e-05,  8.04994991e-01,\n",
    "       -1.70654509e-02,  6.14088344e-03, -1.56234434e+00,  7.12219535e-01,\n",
    "        1.57381198e-02,  7.55085836e-01,  8.22332081e-04,  8.17436446e-01,\n",
    "        3.91438474e-02,  9.34327779e-01,  1.27093500e-02]),\n",
    "    'optimal_point': None,\n",
    "    'optimal_value': None,\n",
    "    'optimizer_evals': None,\n",
    "    'optimizer_result': None,\n",
    "    'optimizer_time': None}"
   ]
  },
  {
   "cell_type": "code",
   "execution_count": 23,
   "id": "ebb24fdb",
   "metadata": {},
   "outputs": [
    {
     "name": "stdout",
     "output_type": "stream",
     "text": [
      "-35.963\n"
     ]
    }
   ],
   "source": [
    "from qiskit_ibm_runtime import (QiskitRuntimeService, Session,\n",
    "                                Estimator as RuntimeEstimator)\n",
    "\n",
    "# Save an IBM Quantum account. See docs for credential security warning\n",
    "# https://github.com/Qiskit/qiskit-ibm-runtime/tree/stable/0.7#saving-account-on-disk\n",
    "QiskitRuntimeService.save_account(channel=\"ibm_quantum\", token=\"a25c2de7fba634b2157af2ffb30cdcc9308e14a848e7ab959998e09039d19b4bb8310654409a6be536191b7181d01036b0df144e791d1b9c700281d2d9e8f098\",overwrite=True)\n",
    "backend = 'simulator_statevector'\n",
    "service = QiskitRuntimeService(channel='ibm_quantum')\n",
    "\n",
    "kagome24 = QuantumCircuit(24)\n",
    "\n",
    "for i in range(11):\n",
    "    W_entangler(kagome24,[2*i+1,2*i+2,2*i+3],'t'+str(i))\n",
    "    \n",
    "W_entangler(kagome24,[23,0],'t11') # entangle the last (23rd) and first (0th) qubit\n",
    "\n",
    "with Session(service=service,backend=backend) as session:\n",
    "    estimator = RuntimeEstimator()\n",
    "    params = kagome24.parameters\n",
    "    num_params = len(params)\n",
    "    x0 = [1,0,1,0,1,1,0,1,0,1,0,1,0,1,0,1,0,1,0,1,0,1,0]\n",
    "    # x0 = [1,0,1,0,1,1,0,1,0,1,0,1,0,1,0,1,0,1,0,1,0,1,0] # energy: -36.03\n",
    "    # x0 = [1,0,1,0,1,1,0,1,0,1,0,1,0,0,2,1,0,1,0,1,0,1,0] # energy: -34\n",
    "    # x0 = [i%2 for i in range(23)]\n",
    "    # x0 = [1,0,-3,0,1,1,0,-1,4,1,0,1,0,0,-2,1,0,1,0,1,0,1,0]\n",
    "    t_dict = {params[i]: x0[i]*np.pi/4 for i in range(len(params))}\n",
    "    kagome24.assign_parameters(t_dict,inplace=True)\n",
    "\n",
    "    job = estimator.run([kagome24],[ham_24])\n",
    "    result = job.result()\n",
    "    print(result.values[0])"
   ]
  },
  {
   "cell_type": "code",
   "execution_count": null,
   "id": "c6a0798c",
   "metadata": {},
   "outputs": [],
   "source": [
    "from qiskit import Aer, transpile\n",
    "\n",
    "sim_statevector = Aer.get_backend('aer_simulator_statevector')\n",
    "sim_kagome = QuantumCircuit(12)\n",
    "for i in range(5):      \n",
    "    W_entangler(sim_kagome,[2*i+1,(2*i+2)%12,(2*i+3)%12],'t'+str(i))\n",
    "\n",
    "# entangle the last qubit with the first (still free) qubit in the lattice\n",
    "W_entangler(sim_kagome,[11,0],'t'+str(5))\n",
    "\n",
    "# use (optimal) ground state parameters and bind them to the circuit\n",
    "x0 = np.pi/4 * np.array([1,0,1,0,1,0,1,0,1,0,1])\n",
    "\n",
    "params = sim_kagome.parameters\n",
    "t_dict = {params[i]: ((i+1)%2)*np.pi/4 for i in range(11)}\n",
    "sim_kagome.assign_parameters(t_dict,inplace=True)\n",
    "\n",
    "# save the state vector of the ground state\n",
    "sim_kagome.save_statevector()\n",
    "\n",
    "transpile(kagome_ansatz,sim_statevector)\n",
    "\n",
    "result = sim_statevector.run(sim_kagome,ham_16).result()\n",
    "statevector = result.get_statevector(sim_kagome)\n",
    "state_vec_arr = np.asarray(statevector).flatten()\n",
    "\n",
    "for i in range(len(state_vec_arr)):\n",
    "    if not state_vec_arr[i] == 0:\n",
    "        print(\"%.3f |%s>\" % (np.round(state_vec_arr[i],3), format(i,'012b')))"
   ]
  },
  {
   "cell_type": "code",
   "execution_count": 14,
   "id": "42195e16",
   "metadata": {},
   "outputs": [
    {
     "name": "stderr",
     "output_type": "stream",
     "text": [
      "C:\\Users\\keckert\\AppData\\Local\\Temp/ipykernel_15768/379544204.py:3: DeprecationWarning: The package qiskit.providers.ibmq is being deprecated. Please see https://ibm.biz/provider_migration_guide to get instructions on how to migrate to qiskit-ibm-provider (https://github.com/Qiskit/qiskit-ibm-provider) and qiskit-ibm-runtime (https://github.com/Qiskit/qiskit-ibm-runtime).\n",
      "  IBMQ.load_account() # Load account from disk\n",
      "C:\\Users\\keckert\\AppData\\Local\\Temp/ipykernel_15768/379544204.py:3: DeprecationWarning: The qiskit.IBMQ entrypoint and the qiskit-ibmq-provider package (accessible from 'qiskit.providers.ibmq`) are deprecated and will be removed in a future release. Instead you should use the qiskit-ibm-provider package which is accessible from 'qiskit_ibm_provider'. You can install it with 'pip install qiskit_ibm_provider'. Just replace 'qiskit.IBMQ' with 'qiskit_ibm_provider.IBMProvider'\n",
      "  IBMQ.load_account() # Load account from disk\n"
     ]
    },
    {
     "name": "stdout",
     "output_type": "stream",
     "text": [
      "{'values': [-31.580999999999996], 'metadata': [{'variance': 86.0320535, 'shots': 4000, 'readout_mitigation_num_twirled_circuits': 16, 'readout_mitigation_shots_calibration': 8192}]}\n"
     ]
    }
   ],
   "source": [
    "from qiskit import IBMQ\n",
    "\n",
    "IBMQ.load_account() # Load account from disk\n",
    "provider = IBMQ.get_provider(hub='ibm-q', group='open', project='main')\n",
    "\n",
    "job = provider.runtime.job('cg4r4biuhir4rv1m6ic0')\n",
    "result = job.result()\n",
    "print(result)"
   ]
  },
  {
   "cell_type": "code",
   "execution_count": null,
   "id": "a72a981f",
   "metadata": {},
   "outputs": [],
   "source": []
  }
 ],
 "metadata": {
  "kernelspec": {
   "display_name": "Python 3 (ipykernel)",
   "language": "python",
   "name": "python3"
  },
  "language_info": {
   "codemirror_mode": {
    "name": "ipython",
    "version": 3
   },
   "file_extension": ".py",
   "mimetype": "text/x-python",
   "name": "python",
   "nbconvert_exporter": "python",
   "pygments_lexer": "ipython3",
   "version": "3.9.7"
  }
 },
 "nbformat": 4,
 "nbformat_minor": 5
}
